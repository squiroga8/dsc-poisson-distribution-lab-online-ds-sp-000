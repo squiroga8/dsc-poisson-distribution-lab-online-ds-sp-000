{
 "cells": [
  {
   "cell_type": "markdown",
   "metadata": {},
   "source": [
    "# Poisson Distribution - Lab\n",
    "\n",
    "## Introduction\n",
    "\n",
    "In this lab, you will put your knowledge of the Poisson Distribution to use to solve some sample real-world problems!\n",
    "\n",
    "## Objectives\n",
    "\n",
    "You will be able to:\n",
    "\n",
    "* Understand and explain the Poisson Distribution and its use cases.\n",
    "\n",
    "\n",
    "## Instructions\n",
    "\n",
    "Solve the following sample problems by using Python and your knowledge of the Poisson Distribution.\n",
    "\n",
    "## Getting Started\n",
    "\n",
    "Good Data Scientists plan ahead! Since you're going to be solving Poisson Distribution problems in this lab, it's probably a good idea to write a function that calculates Poisson Probabilities for us first. \n",
    "\n",
    "Recall that the Poisson Probability Formula is:\n",
    "\n",
    "$$p(x) = \\frac{\\lambda^xe^{-\\lambda}}{x!}$$\n",
    "\n",
    "Write a generalized function that takes in the appropriate parameters and returns the Poisson Probability.\n",
    "\n",
    "**_NOTE:_**  You can use `np.exp()` to quickly calculate $e$, and `math.factorial` (from the `math` library, not numpy) to calculate factorials. \n",
    "\n",
    "**_HINT:_** It's up to you whether or not you have your function calculate the value for lambda given $\\mu$ and the interval, or whether you calculate lambda yourself beforehand and just pass it into the function. "
   ]
  },
  {
   "cell_type": "code",
   "execution_count": 1,
   "metadata": {
    "ExecuteTime": {
     "end_time": "2019-10-24T15:20:56.256818Z",
     "start_time": "2019-10-24T15:20:56.252468Z"
    }
   },
   "outputs": [],
   "source": [
    "import numpy as np\n",
    "from math import factorial"
   ]
  },
  {
   "cell_type": "code",
   "execution_count": 2,
   "metadata": {
    "ExecuteTime": {
     "end_time": "2019-10-24T15:24:34.687445Z",
     "start_time": "2019-10-24T15:24:34.683604Z"
    }
   },
   "outputs": [],
   "source": [
    "def poisson_probability(lambd, x):\n",
    "    prob = ((lambd**x)*np.exp(-lambd))/factorial(x)\n",
    "    return prob"
   ]
  },
  {
   "cell_type": "markdown",
   "metadata": {},
   "source": [
    "## Question 1\n",
    "\n",
    "A fireman fights, on average, 4 fires per month. What is the probability that a fireman is called to two different fires this week?"
   ]
  },
  {
   "cell_type": "code",
   "execution_count": 4,
   "metadata": {
    "ExecuteTime": {
     "end_time": "2019-10-24T15:26:46.516674Z",
     "start_time": "2019-10-24T15:26:46.509854Z"
    }
   },
   "outputs": [
    {
     "name": "stdout",
     "output_type": "stream",
     "text": [
      "0.18393972058572117\n"
     ]
    }
   ],
   "source": [
    "lambd_q1 = 4 / 4\n",
    "prob_q1 = poisson_probability(lambd_q1, 2)\n",
    "print(prob_q1)  # Expected Output:  0.18393972058572117"
   ]
  },
  {
   "cell_type": "markdown",
   "metadata": {},
   "source": [
    "## Question 2\n",
    "\n",
    "A car salesman sells an average of 4 cars per week.  What is the probability they sell a car today?"
   ]
  },
  {
   "cell_type": "code",
   "execution_count": 5,
   "metadata": {
    "ExecuteTime": {
     "end_time": "2019-10-24T15:27:26.992082Z",
     "start_time": "2019-10-24T15:27:26.987733Z"
    }
   },
   "outputs": [
    {
     "name": "stdout",
     "output_type": "stream",
     "text": [
      "0.32269606971871956\n"
     ]
    }
   ],
   "source": [
    "lambd_q2 = 4/7\n",
    "prob_q2 = poisson_probability(lambd_q2, 1)\n",
    "print(prob_q2)  # Expected Output: 0.32269606971871956"
   ]
  },
  {
   "cell_type": "markdown",
   "metadata": {},
   "source": [
    "## Question 3\n",
    "\n",
    "A website makes an average of 50 sales per day.  What is the probability that they make 3 sales in an hour? "
   ]
  },
  {
   "cell_type": "code",
   "execution_count": 7,
   "metadata": {
    "ExecuteTime": {
     "end_time": "2019-10-24T15:28:08.162762Z",
     "start_time": "2019-10-24T15:28:08.158574Z"
    }
   },
   "outputs": [
    {
     "name": "stdout",
     "output_type": "stream",
     "text": [
      "0.18764840049328912\n"
     ]
    }
   ],
   "source": [
    "lambd_q3 = 50 / 24\n",
    "prob_q3 = poisson_probability(lambd_q3, 3)\n",
    "print(prob_q3)  # Expected Output: 0.18764840049328912"
   ]
  },
  {
   "cell_type": "markdown",
   "metadata": {},
   "source": [
    "## Question 4\n",
    "\n",
    "A factory produces 250 cars per week (assume that the factory runs day and night all week with no down time). What is the probability that they produce 3 cars in the next hour?"
   ]
  },
  {
   "cell_type": "code",
   "execution_count": 8,
   "metadata": {
    "ExecuteTime": {
     "end_time": "2019-10-24T15:28:41.111429Z",
     "start_time": "2019-10-24T15:28:41.099494Z"
    }
   },
   "outputs": [
    {
     "data": {
      "text/plain": [
       "168"
      ]
     },
     "execution_count": 8,
     "metadata": {},
     "output_type": "execute_result"
    }
   ],
   "source": [
    "7*24"
   ]
  },
  {
   "cell_type": "code",
   "execution_count": 9,
   "metadata": {
    "ExecuteTime": {
     "end_time": "2019-10-24T15:29:01.008938Z",
     "start_time": "2019-10-24T15:29:01.004164Z"
    }
   },
   "outputs": [
    {
     "name": "stdout",
     "output_type": "stream",
     "text": [
      "0.1240136186052091\n"
     ]
    }
   ],
   "source": [
    "lambd_q4 = 250/168\n",
    "prob_q4 = poisson_probability(lambd_q4, 3)\n",
    "print(prob_q4)   # Expected Output: 0.1240136186052091"
   ]
  },
  {
   "cell_type": "markdown",
   "metadata": {},
   "source": [
    "## Question 5\n",
    "\n",
    "The following table shows the number of houses sold by a realtor each week for the month of May. What is the probability that they sell 3 houses next week?\n",
    "\n",
    "| Week | Houses Sold |\n",
    "|:----:|:-----------:|\n",
    "|   1  |      6      |\n",
    "|   2  |      2      |\n",
    "|   3  |      5      |\n",
    "|   4  |      4      |"
   ]
  },
  {
   "cell_type": "code",
   "execution_count": 10,
   "metadata": {
    "ExecuteTime": {
     "end_time": "2019-10-24T15:30:27.650485Z",
     "start_time": "2019-10-24T15:30:27.645551Z"
    }
   },
   "outputs": [
    {
     "name": "stdout",
     "output_type": "stream",
     "text": [
      "0.18250047186175347\n"
     ]
    }
   ],
   "source": [
    "mean_weekly_sales = (6+2+5+4)/4\n",
    "lambd_q5 = mean_weekly_sales \n",
    "prob_q5 = poisson_probability(lambd_q5, 3)\n",
    "print(prob_q5)  # Expected Output: 0.18250047186175347"
   ]
  },
  {
   "cell_type": "markdown",
   "metadata": {},
   "source": [
    "## Summary\n",
    "\n",
    "In this lab, we got some practice making use of our knowledge of the Poisson Distribution to answer some real-world questions!"
   ]
  }
 ],
 "metadata": {
  "kernelspec": {
   "display_name": "learn-env",
   "language": "python",
   "name": "learn-env"
  },
  "language_info": {
   "codemirror_mode": {
    "name": "ipython",
    "version": 3
   },
   "file_extension": ".py",
   "mimetype": "text/x-python",
   "name": "python",
   "nbconvert_exporter": "python",
   "pygments_lexer": "ipython3",
   "version": "3.6.9"
  },
  "toc": {
   "base_numbering": 1,
   "nav_menu": {},
   "number_sections": true,
   "sideBar": true,
   "skip_h1_title": false,
   "title_cell": "Table of Contents",
   "title_sidebar": "Contents",
   "toc_cell": false,
   "toc_position": {},
   "toc_section_display": true,
   "toc_window_display": false
  },
  "varInspector": {
   "cols": {
    "lenName": 16,
    "lenType": 16,
    "lenVar": 40
   },
   "kernels_config": {
    "python": {
     "delete_cmd_postfix": "",
     "delete_cmd_prefix": "del ",
     "library": "var_list.py",
     "varRefreshCmd": "print(var_dic_list())"
    },
    "r": {
     "delete_cmd_postfix": ") ",
     "delete_cmd_prefix": "rm(",
     "library": "var_list.r",
     "varRefreshCmd": "cat(var_dic_list()) "
    }
   },
   "types_to_exclude": [
    "module",
    "function",
    "builtin_function_or_method",
    "instance",
    "_Feature"
   ],
   "window_display": true
  }
 },
 "nbformat": 4,
 "nbformat_minor": 2
}
